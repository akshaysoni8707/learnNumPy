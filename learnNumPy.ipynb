{
 "cells": [
  {
   "cell_type": "code",
   "execution_count": 1,
   "id": "3fec9335-84d1-41cd-bcf4-062a20fb6882",
   "metadata": {},
   "outputs": [
    {
     "name": "stdout",
     "output_type": "stream",
     "text": [
      "1.87 µs ± 44.4 ns per loop (mean ± std. dev. of 7 runs, 1,000,000 loops each)\n"
     ]
    }
   ],
   "source": [
    "%timeit [i**4 for i in range(1,9)]"
   ]
  },
  {
   "cell_type": "code",
   "execution_count": 2,
   "id": "5f4e966c-487a-4f86-a362-620edfded89a",
   "metadata": {},
   "outputs": [
    {
     "name": "stdout",
     "output_type": "stream",
     "text": [
      "1.65 µs ± 28.4 ns per loop (mean ± std. dev. of 7 runs, 1,000,000 loops each)\n"
     ]
    }
   ],
   "source": [
    "import numpy as np\n",
    "%timeit np.arange(1,9)**4"
   ]
  },
  {
   "cell_type": "markdown",
   "id": "e7103994-0646-45c1-aa19-fcdc626c3ad0",
   "metadata": {},
   "source": [
    "# Array"
   ]
  },
  {
   "cell_type": "code",
   "execution_count": 1,
   "id": "9b55efa2-daa1-4b85-ad7c-ca2cd71fc816",
   "metadata": {},
   "outputs": [
    {
     "name": "stdout",
     "output_type": "stream",
     "text": [
      "[1 2 3 4]\n"
     ]
    }
   ],
   "source": [
    "import numpy as np\n",
    "\n",
    "x = [1,2,3,4]\n",
    "y = np.array(x)\n",
    "\n",
    "print(y)"
   ]
  },
  {
   "cell_type": "code",
   "execution_count": 3,
   "id": "d8fbe299-aed1-4817-b2dc-190f6361b31f",
   "metadata": {},
   "outputs": [
    {
     "name": "stdout",
     "output_type": "stream",
     "text": [
      "[1 2 3 4]\n",
      "<class 'numpy.ndarray'>\n"
     ]
    },
    {
     "data": {
      "text/plain": [
       "array([1, 2, 3, 4])"
      ]
     },
     "execution_count": 3,
     "metadata": {},
     "output_type": "execute_result"
    }
   ],
   "source": [
    "import numpy as np\n",
    "\n",
    "y = np.array([1,2,3,4])\n",
    "\n",
    "print(y)\n",
    "print(type(y))\n",
    "y"
   ]
  },
  {
   "cell_type": "code",
   "execution_count": 4,
   "id": "cafd6a82-37ad-4a7b-afc9-cdc7a8083f81",
   "metadata": {},
   "outputs": [
    {
     "name": "stdin",
     "output_type": "stream",
     "text": [
      "Enter data  11\n",
      "Enter data  12\n",
      "Enter data  13\n",
      "Enter data  14\n"
     ]
    },
    {
     "name": "stdout",
     "output_type": "stream",
     "text": [
      "[11 12 13 14]\n",
      "<class 'numpy.ndarray'>\n",
      "1\n"
     ]
    }
   ],
   "source": [
    "l = []\n",
    "\n",
    "for i in range(1,5):\n",
    "    data = int(input(\"Enter data \"))\n",
    "    l.append(data)\n",
    "    \n",
    "y = np.array(l)\n",
    "print(y)\n",
    "print(type(y))\n",
    "print(y.ndim)"
   ]
  },
  {
   "cell_type": "code",
   "execution_count": 5,
   "id": "9c8a3142-975a-478c-854a-6b6ef37638e5",
   "metadata": {},
   "outputs": [
    {
     "name": "stdout",
     "output_type": "stream",
     "text": [
      "[[ 1  2  3  4]\n",
      " [17 15 14 12]]\n",
      "2\n"
     ]
    }
   ],
   "source": [
    "ar2d = np.array([[1,2,3,4],[17,15,14,12]])\n",
    "print(ar2d)\n",
    "print(ar2d.ndim)"
   ]
  },
  {
   "cell_type": "code",
   "execution_count": 6,
   "id": "bf02ba63-df16-4e80-9769-8620425ce4e5",
   "metadata": {},
   "outputs": [
    {
     "name": "stdout",
     "output_type": "stream",
     "text": [
      "[list([[1, 2, 3, 4], [17, 15, 14, 12]]) list([[5, 6, 7, 8]])]\n",
      "1\n"
     ]
    },
    {
     "name": "stderr",
     "output_type": "stream",
     "text": [
      "C:\\Users\\Akshay Soni\\AppData\\Local\\Temp\\ipykernel_9096\\1151516850.py:1: VisibleDeprecationWarning: Creating an ndarray from ragged nested sequences (which is a list-or-tuple of lists-or-tuples-or ndarrays with different lengths or shapes) is deprecated. If you meant to do this, you must specify 'dtype=object' when creating the ndarray.\n",
      "  ar3d = np.array([[[1,2,3,4],[17,15,14,12]],[[5,6,7,8]]])\n"
     ]
    }
   ],
   "source": [
    "ar3d = np.array([[[1,2,3,4],[17,15,14,12]],[[5,6,7,8]]])\n",
    "print(ar3d)\n",
    "print(ar3d.ndim)"
   ]
  },
  {
   "cell_type": "code",
   "execution_count": 8,
   "id": "afb107c2-ed68-4373-a16d-9fd28990cce9",
   "metadata": {},
   "outputs": [
    {
     "name": "stdout",
     "output_type": "stream",
     "text": [
      "[[[ 1  2  3  4]\n",
      "  [17 15 14 12]]\n",
      "\n",
      " [[ 5  6  7  8]\n",
      "  [11 22 33 44]]]\n",
      "3\n"
     ]
    }
   ],
   "source": [
    "ar3d = np.array([[[1,2,3,4],[17,15,14,12]],[[5,6,7,8],[11,22,33,44]]])\n",
    "print(ar3d)\n",
    "print(ar3d.ndim)"
   ]
  },
  {
   "cell_type": "code",
   "execution_count": 11,
   "id": "18574b79-d3b5-4d8b-8cac-136dffe273ff",
   "metadata": {},
   "outputs": [
    {
     "name": "stdout",
     "output_type": "stream",
     "text": [
      "[[[[[[[[[[1 2 3 4]]]]]]]]]]\n",
      "10\n"
     ]
    }
   ],
   "source": [
    "arNd = np.array([1,2,3,4],ndmin = 10)\n",
    "print(arNd)\n",
    "print(arNd.ndim)"
   ]
  },
  {
   "cell_type": "markdown",
   "id": "e9e4b6af-3087-4e77-9573-e79f8803fbd2",
   "metadata": {},
   "source": [
    "# Numpy Array Functions"
   ]
  },
  {
   "cell_type": "code",
   "execution_count": 13,
   "id": "a7c05a5e-35f7-4911-b4b5-ef289d001dd3",
   "metadata": {},
   "outputs": [
    {
     "name": "stdout",
     "output_type": "stream",
     "text": [
      "[0. 0. 0. 0.]\n"
     ]
    }
   ],
   "source": [
    "arZeros = np.zeros(4)\n",
    "print(arZeros)"
   ]
  },
  {
   "cell_type": "code",
   "execution_count": 15,
   "id": "41048011-7d65-4696-84dc-cac22424db7b",
   "metadata": {},
   "outputs": [
    {
     "name": "stdout",
     "output_type": "stream",
     "text": [
      "[[0. 0. 0. 0.]\n",
      " [0. 0. 0. 0.]\n",
      " [0. 0. 0. 0.]]\n"
     ]
    }
   ],
   "source": [
    "arZeros2d = np.zeros((3,4))\n",
    "print(arZeros2d)"
   ]
  },
  {
   "cell_type": "code",
   "execution_count": 16,
   "id": "56baa277-5b9e-4ef1-809d-79e580792ec5",
   "metadata": {},
   "outputs": [
    {
     "name": "stdout",
     "output_type": "stream",
     "text": [
      "[1. 1. 1. 1.]\n"
     ]
    }
   ],
   "source": [
    "arOnes = np.ones(4)\n",
    "print(arOnes)"
   ]
  },
  {
   "cell_type": "code",
   "execution_count": 17,
   "id": "dd3bbd0b-689c-4858-8912-9a30498a748b",
   "metadata": {},
   "outputs": [
    {
     "name": "stdout",
     "output_type": "stream",
     "text": [
      "[[1. 1. 1.]\n",
      " [1. 1. 1.]\n",
      " [1. 1. 1.]\n",
      " [1. 1. 1.]]\n"
     ]
    }
   ],
   "source": [
    "arOnes2d = np.ones((4,3))\n",
    "print(arOnes2d)"
   ]
  },
  {
   "cell_type": "code",
   "execution_count": 19,
   "id": "e534a5d0-5c7e-4510-aad9-64292107a852",
   "metadata": {},
   "outputs": [
    {
     "name": "stdout",
     "output_type": "stream",
     "text": [
      "[1. 1. 1. 1.]\n"
     ]
    }
   ],
   "source": [
    "arEmpty = np.empty(4)\n",
    "print(arEmpty)"
   ]
  },
  {
   "cell_type": "code",
   "execution_count": 20,
   "id": "25984314-83e0-4776-bab0-440a984e18b6",
   "metadata": {},
   "outputs": [
    {
     "name": "stdout",
     "output_type": "stream",
     "text": [
      "[[0.00000000e+000 0.00000000e+000 0.00000000e+000]\n",
      " [0.00000000e+000 0.00000000e+000 8.85365637e-321]\n",
      " [5.98147296e-154 6.01346930e-154 4.19314256e+228]]\n"
     ]
    }
   ],
   "source": [
    "arEmpty2d = np.empty((3,3))\n",
    "print(arEmpty2d)"
   ]
  },
  {
   "cell_type": "code",
   "execution_count": 21,
   "id": "baeccbd7-217c-4bea-93a3-0a45ba5c0b70",
   "metadata": {},
   "outputs": [
    {
     "name": "stdout",
     "output_type": "stream",
     "text": [
      "[0 1 2 3]\n"
     ]
    }
   ],
   "source": [
    "arRange = np.arange(4)\n",
    "print(arRange)"
   ]
  },
  {
   "cell_type": "code",
   "execution_count": 22,
   "id": "6a35797f-c247-4321-a3db-8d934dd5ac7e",
   "metadata": {},
   "outputs": [
    {
     "name": "stdout",
     "output_type": "stream",
     "text": [
      "[1 3 5 7 9]\n"
     ]
    }
   ],
   "source": [
    "arRange = np.arange(1,11,2)\n",
    "print(arRange)"
   ]
  },
  {
   "cell_type": "code",
   "execution_count": 23,
   "id": "5380b388-ce6f-4d5b-a491-32c4cec0e631",
   "metadata": {},
   "outputs": [
    {
     "name": "stdout",
     "output_type": "stream",
     "text": [
      "[[1. 0. 0.]\n",
      " [0. 1. 0.]\n",
      " [0. 0. 1.]]\n"
     ]
    }
   ],
   "source": [
    "arDiagonal = np.eye(3)\n",
    "print(arDiagonal)"
   ]
  },
  {
   "cell_type": "code",
   "execution_count": 24,
   "id": "3480343b-4d84-4bb1-9288-ac22e4833d97",
   "metadata": {},
   "outputs": [
    {
     "name": "stdout",
     "output_type": "stream",
     "text": [
      "[[1. 0. 0. 0. 0.]\n",
      " [0. 1. 0. 0. 0.]\n",
      " [0. 0. 1. 0. 0.]]\n"
     ]
    }
   ],
   "source": [
    "arDiagonal = np.eye(3,5)\n",
    "print(arDiagonal)"
   ]
  },
  {
   "cell_type": "code",
   "execution_count": 25,
   "id": "9eaf7fc3-ee8c-4112-9aca-ff590a2a1fb2",
   "metadata": {},
   "outputs": [
    {
     "name": "stdout",
     "output_type": "stream",
     "text": [
      "[ 0.  5. 10. 15. 20.]\n"
     ]
    }
   ],
   "source": [
    "arLin = np.linspace(0,20,num=5)\n",
    "print(arLin)"
   ]
  },
  {
   "cell_type": "code",
   "execution_count": 26,
   "id": "8f727bbe-999d-4ed8-b4bc-b42b53bac1e1",
   "metadata": {},
   "outputs": [
    {
     "name": "stdout",
     "output_type": "stream",
     "text": [
      "[ 0. 20.]\n"
     ]
    }
   ],
   "source": [
    "arLin = np.linspace(0,20,num=2)\n",
    "print(arLin)"
   ]
  },
  {
   "cell_type": "code",
   "execution_count": 27,
   "id": "636d6fc2-398b-4fb2-a50f-7e103819001b",
   "metadata": {},
   "outputs": [
    {
     "name": "stdout",
     "output_type": "stream",
     "text": [
      "[ 0.   2.5  5.   7.5 10. ]\n"
     ]
    }
   ],
   "source": [
    "arLin = np.linspace(0,10,num=5)\n",
    "print(arLin)"
   ]
  },
  {
   "cell_type": "markdown",
   "id": "83a293c2-6ea0-4fee-83d6-364d85557851",
   "metadata": {},
   "source": [
    "# Random Number Array"
   ]
  },
  {
   "cell_type": "code",
   "execution_count": 28,
   "id": "57c69caf-0ef4-4f00-aa57-3cc0e8142278",
   "metadata": {},
   "outputs": [
    {
     "name": "stdout",
     "output_type": "stream",
     "text": [
      "[0.28612951 0.63929834 0.87970048 0.70254987]\n"
     ]
    }
   ],
   "source": [
    "ranArr = np.random.rand(4)\n",
    "print(ranArr)"
   ]
  },
  {
   "cell_type": "code",
   "execution_count": 29,
   "id": "54b43e71-517d-4447-90af-0999395cb3c1",
   "metadata": {},
   "outputs": [
    {
     "name": "stdout",
     "output_type": "stream",
     "text": [
      "[[0.61647706 0.153595   0.25600379]\n",
      " [0.12445997 0.52261762 0.82796977]\n",
      " [0.58729041 0.59651725 0.4371282 ]\n",
      " [0.50066541 0.57542598 0.32315935]]\n"
     ]
    }
   ],
   "source": [
    "ranArr2d = np.random.rand(4,3)\n",
    "print(ranArr2d)"
   ]
  },
  {
   "cell_type": "code",
   "execution_count": 30,
   "id": "39d5f548-aba0-4623-a683-829745f5c6d6",
   "metadata": {},
   "outputs": [
    {
     "name": "stdout",
     "output_type": "stream",
     "text": [
      "[-0.27052385 -0.46323798  1.14337485 -0.91336412]\n"
     ]
    }
   ],
   "source": [
    "ranArrNegative = np.random.randn(4)\n",
    "print(ranArrNegative)"
   ]
  },
  {
   "cell_type": "code",
   "execution_count": 31,
   "id": "4ff7304b-c4de-4dcd-884c-eade2b04337c",
   "metadata": {},
   "outputs": [
    {
     "name": "stdout",
     "output_type": "stream",
     "text": [
      "[[ 1.04839043  0.12069216]\n",
      " [-1.37378843  0.79132311]\n",
      " [ 0.40240003  0.51488638]]\n"
     ]
    }
   ],
   "source": [
    "ranArrNegative2d = np.random.randn(3,2)\n",
    "print(ranArrNegative2d)"
   ]
  },
  {
   "cell_type": "code",
   "execution_count": 33,
   "id": "2c4d75e9-5ac8-490c-9754-b0238f19ffca",
   "metadata": {},
   "outputs": [
    {
     "name": "stdout",
     "output_type": "stream",
     "text": [
      "[0.53349371 0.23127002 0.35354352 0.26901235]\n"
     ]
    }
   ],
   "source": [
    "ranArr = np.random.ranf(4)\n",
    "print(ranArr)"
   ]
  },
  {
   "cell_type": "code",
   "execution_count": 35,
   "id": "0fab90fc-cca4-4446-98f9-ba768e4ebeba",
   "metadata": {},
   "outputs": [
    {
     "name": "stdout",
     "output_type": "stream",
     "text": [
      "[[0.70041082 0.75224649]\n",
      " [0.2575867  0.5596336 ]\n",
      " [0.07307599 0.37563185]]\n"
     ]
    }
   ],
   "source": [
    "ranArr2d = np.random.ranf((3,2))\n",
    "print(ranArr2d)"
   ]
  },
  {
   "cell_type": "code",
   "execution_count": 37,
   "id": "35135568-8baf-4a81-a19b-fe8c9206267a",
   "metadata": {},
   "outputs": [
    {
     "name": "stdout",
     "output_type": "stream",
     "text": [
      "[11  7 10  7  2]\n"
     ]
    }
   ],
   "source": [
    "ranArr = np.random.randint(2,20,5)\n",
    "print(ranArr)"
   ]
  },
  {
   "cell_type": "code",
   "execution_count": 38,
   "id": "dcff8246-0c2f-4aa5-a580-d14ca02e12d8",
   "metadata": {},
   "outputs": [
    {
     "name": "stdout",
     "output_type": "stream",
     "text": [
      "[[ 6  7]\n",
      " [15 18]\n",
      " [ 3 10]]\n"
     ]
    }
   ],
   "source": [
    "ranArr = np.random.randint(2,20,(3,2))\n",
    "print(ranArr)"
   ]
  },
  {
   "cell_type": "code",
   "execution_count": 39,
   "id": "c939d153-c369-4bd6-9a83-e97e0477b6eb",
   "metadata": {},
   "outputs": [
    {
     "name": "stdout",
     "output_type": "stream",
     "text": [
      "1\n"
     ]
    },
    {
     "name": "stderr",
     "output_type": "stream",
     "text": [
      "C:\\Users\\Akshay Soni\\AppData\\Local\\Temp\\ipykernel_9096\\86191777.py:1: DeprecationWarning: This function is deprecated. Please call randint(1, 3 + 1) instead\n",
      "  ranArr = np.random.random_integers(3)\n"
     ]
    }
   ],
   "source": [
    "ranArr = np.random.random_integers(3)\n",
    "print(ranArr)"
   ]
  },
  {
   "cell_type": "code",
   "execution_count": 40,
   "id": "e932a183-c4f3-4f34-9781-3db15768a0ac",
   "metadata": {},
   "outputs": [
    {
     "name": "stdout",
     "output_type": "stream",
     "text": [
      "[0.09556365 0.10349263 0.44060316]\n"
     ]
    }
   ],
   "source": [
    "ranArr = np.random.random(3,)\n",
    "print(ranArr)"
   ]
  },
  {
   "cell_type": "code",
   "execution_count": 42,
   "id": "6239dce0-31e3-42e2-88da-78e8dc0ea0f4",
   "metadata": {},
   "outputs": [
    {
     "name": "stdout",
     "output_type": "stream",
     "text": [
      "[ 0  1  2  3  4  5  6  7  8  9 10 11]\n",
      "[ 3  9 11  7  4  1  0  6  8  5 10  2]\n"
     ]
    }
   ],
   "source": [
    "arr = np.arange(12)\n",
    "print(arr)\n",
    "np.random.shuffle(arr)  \n",
    "print(arr)"
   ]
  },
  {
   "cell_type": "code",
   "execution_count": null,
   "id": "b2c1aea7-ccdb-455b-a831-b4d470f5d1db",
   "metadata": {},
   "outputs": [],
   "source": []
  }
 ],
 "metadata": {
  "kernelspec": {
   "display_name": "Python 3 (ipykernel)",
   "language": "python",
   "name": "python3"
  },
  "language_info": {
   "codemirror_mode": {
    "name": "ipython",
    "version": 3
   },
   "file_extension": ".py",
   "mimetype": "text/x-python",
   "name": "python",
   "nbconvert_exporter": "python",
   "pygments_lexer": "ipython3",
   "version": "3.8.5"
  }
 },
 "nbformat": 4,
 "nbformat_minor": 5
}
