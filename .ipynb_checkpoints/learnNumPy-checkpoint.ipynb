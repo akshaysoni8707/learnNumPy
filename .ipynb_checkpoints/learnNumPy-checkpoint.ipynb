{
 "cells": [
  {
   "cell_type": "code",
   "execution_count": 7,
   "id": "3fec9335-84d1-41cd-bcf4-062a20fb6882",
   "metadata": {},
   "outputs": [
    {
     "name": "stdout",
     "output_type": "stream",
     "text": [
      "5.27 µs ± 340 ns per loop (mean ± std. dev. of 7 runs, 100,000 loops each)\n"
     ]
    }
   ],
   "source": [
    "%timeit [i**4 for i in range(1,9)]"
   ]
  },
  {
   "cell_type": "code",
   "execution_count": 2,
   "id": "5f4e966c-487a-4f86-a362-620edfded89a",
   "metadata": {},
   "outputs": [
    {
     "name": "stdout",
     "output_type": "stream",
     "text": [
      "4.22 µs ± 870 ns per loop (mean ± std. dev. of 7 runs, 100,000 loops each)\n"
     ]
    }
   ],
   "source": [
    "import numpy as np\n",
    "%timeit np.arange(1,9)**4"
   ]
  },
  {
   "cell_type": "markdown",
   "id": "e7103994-0646-45c1-aa19-fcdc626c3ad0",
   "metadata": {},
   "source": [
    "# Array"
   ]
  },
  {
   "cell_type": "code",
   "execution_count": 1,
   "id": "9b55efa2-daa1-4b85-ad7c-ca2cd71fc816",
   "metadata": {},
   "outputs": [
    {
     "name": "stdout",
     "output_type": "stream",
     "text": [
      "[1 2 3 4]\n"
     ]
    }
   ],
   "source": [
    "import numpy as np\n",
    "\n",
    "x = [1,2,3,4]\n",
    "y = np.array(x)\n",
    "\n",
    "print(y)"
   ]
  },
  {
   "cell_type": "code",
   "execution_count": 3,
   "id": "d8fbe299-aed1-4817-b2dc-190f6361b31f",
   "metadata": {},
   "outputs": [
    {
     "name": "stdout",
     "output_type": "stream",
     "text": [
      "[1 2 3 4]\n",
      "<class 'numpy.ndarray'>\n"
     ]
    },
    {
     "data": {
      "text/plain": [
       "array([1, 2, 3, 4])"
      ]
     },
     "execution_count": 3,
     "metadata": {},
     "output_type": "execute_result"
    }
   ],
   "source": [
    "import numpy as np\n",
    "\n",
    "y = np.array([1,2,3,4])\n",
    "\n",
    "print(y)\n",
    "print(type(y))\n",
    "y"
   ]
  },
  {
   "cell_type": "code",
   "execution_count": 4,
   "id": "cafd6a82-37ad-4a7b-afc9-cdc7a8083f81",
   "metadata": {},
   "outputs": [
    {
     "name": "stdin",
     "output_type": "stream",
     "text": [
      "Enter data  11\n",
      "Enter data  12\n",
      "Enter data  13\n",
      "Enter data  14\n"
     ]
    },
    {
     "name": "stdout",
     "output_type": "stream",
     "text": [
      "[11 12 13 14]\n",
      "<class 'numpy.ndarray'>\n",
      "1\n"
     ]
    }
   ],
   "source": [
    "l = []\n",
    "\n",
    "for i in range(1,5):\n",
    "    data = int(input(\"Enter data \"))\n",
    "    l.append(data)\n",
    "    \n",
    "y = np.array(l)\n",
    "print(y)\n",
    "print(type(y))\n",
    "print(y.ndim)"
   ]
  },
  {
   "cell_type": "code",
   "execution_count": 5,
   "id": "9c8a3142-975a-478c-854a-6b6ef37638e5",
   "metadata": {},
   "outputs": [
    {
     "name": "stdout",
     "output_type": "stream",
     "text": [
      "[[ 1  2  3  4]\n",
      " [17 15 14 12]]\n",
      "2\n"
     ]
    }
   ],
   "source": [
    "ar2d = np.array([[1,2,3,4],[17,15,14,12]])\n",
    "print(ar2d)\n",
    "print(ar2d.ndim)"
   ]
  },
  {
   "cell_type": "code",
   "execution_count": 6,
   "id": "bf02ba63-df16-4e80-9769-8620425ce4e5",
   "metadata": {},
   "outputs": [
    {
     "name": "stdout",
     "output_type": "stream",
     "text": [
      "[list([[1, 2, 3, 4], [17, 15, 14, 12]]) list([[5, 6, 7, 8]])]\n",
      "1\n"
     ]
    },
    {
     "name": "stderr",
     "output_type": "stream",
     "text": [
      "C:\\Users\\Akshay Soni\\AppData\\Local\\Temp\\ipykernel_9096\\1151516850.py:1: VisibleDeprecationWarning: Creating an ndarray from ragged nested sequences (which is a list-or-tuple of lists-or-tuples-or ndarrays with different lengths or shapes) is deprecated. If you meant to do this, you must specify 'dtype=object' when creating the ndarray.\n",
      "  ar3d = np.array([[[1,2,3,4],[17,15,14,12]],[[5,6,7,8]]])\n"
     ]
    }
   ],
   "source": [
    "ar3d = np.array([[[1,2,3,4],[17,15,14,12]],[[5,6,7,8]]])\n",
    "print(ar3d)\n",
    "print(ar3d.ndim)"
   ]
  },
  {
   "cell_type": "code",
   "execution_count": 8,
   "id": "afb107c2-ed68-4373-a16d-9fd28990cce9",
   "metadata": {},
   "outputs": [
    {
     "name": "stdout",
     "output_type": "stream",
     "text": [
      "[[[ 1  2  3  4]\n",
      "  [17 15 14 12]]\n",
      "\n",
      " [[ 5  6  7  8]\n",
      "  [11 22 33 44]]]\n",
      "3\n"
     ]
    }
   ],
   "source": [
    "ar3d = np.array([[[1,2,3,4],[17,15,14,12]],[[5,6,7,8],[11,22,33,44]]])\n",
    "print(ar3d)\n",
    "print(ar3d.ndim)"
   ]
  },
  {
   "cell_type": "code",
   "execution_count": 11,
   "id": "18574b79-d3b5-4d8b-8cac-136dffe273ff",
   "metadata": {},
   "outputs": [
    {
     "name": "stdout",
     "output_type": "stream",
     "text": [
      "[[[[[[[[[[1 2 3 4]]]]]]]]]]\n",
      "10\n"
     ]
    }
   ],
   "source": [
    "arNd = np.array([1,2,3,4],ndmin = 10)\n",
    "print(arNd)\n",
    "print(arNd.ndim)"
   ]
  },
  {
   "cell_type": "markdown",
   "id": "e9e4b6af-3087-4e77-9573-e79f8803fbd2",
   "metadata": {},
   "source": [
    "# Numpy Array Functions"
   ]
  },
  {
   "cell_type": "code",
   "execution_count": 13,
   "id": "a7c05a5e-35f7-4911-b4b5-ef289d001dd3",
   "metadata": {},
   "outputs": [
    {
     "name": "stdout",
     "output_type": "stream",
     "text": [
      "[0. 0. 0. 0.]\n"
     ]
    }
   ],
   "source": [
    "arZeros = np.zeros(4)\n",
    "print(arZeros)"
   ]
  },
  {
   "cell_type": "code",
   "execution_count": 15,
   "id": "41048011-7d65-4696-84dc-cac22424db7b",
   "metadata": {},
   "outputs": [
    {
     "name": "stdout",
     "output_type": "stream",
     "text": [
      "[[0. 0. 0. 0.]\n",
      " [0. 0. 0. 0.]\n",
      " [0. 0. 0. 0.]]\n"
     ]
    }
   ],
   "source": [
    "arZeros2d = np.zeros((3,4))\n",
    "print(arZeros2d)"
   ]
  },
  {
   "cell_type": "code",
   "execution_count": 16,
   "id": "56baa277-5b9e-4ef1-809d-79e580792ec5",
   "metadata": {},
   "outputs": [
    {
     "name": "stdout",
     "output_type": "stream",
     "text": [
      "[1. 1. 1. 1.]\n"
     ]
    }
   ],
   "source": [
    "arOnes = np.ones(4)\n",
    "print(arOnes)"
   ]
  },
  {
   "cell_type": "code",
   "execution_count": 17,
   "id": "dd3bbd0b-689c-4858-8912-9a30498a748b",
   "metadata": {},
   "outputs": [
    {
     "name": "stdout",
     "output_type": "stream",
     "text": [
      "[[1. 1. 1.]\n",
      " [1. 1. 1.]\n",
      " [1. 1. 1.]\n",
      " [1. 1. 1.]]\n"
     ]
    }
   ],
   "source": [
    "arOnes2d = np.ones((4,3))\n",
    "print(arOnes2d)"
   ]
  },
  {
   "cell_type": "code",
   "execution_count": 19,
   "id": "e534a5d0-5c7e-4510-aad9-64292107a852",
   "metadata": {},
   "outputs": [
    {
     "name": "stdout",
     "output_type": "stream",
     "text": [
      "[1. 1. 1. 1.]\n"
     ]
    }
   ],
   "source": [
    "arEmpty = np.empty(4)\n",
    "print(arEmpty)"
   ]
  },
  {
   "cell_type": "code",
   "execution_count": 20,
   "id": "25984314-83e0-4776-bab0-440a984e18b6",
   "metadata": {},
   "outputs": [
    {
     "name": "stdout",
     "output_type": "stream",
     "text": [
      "[[0.00000000e+000 0.00000000e+000 0.00000000e+000]\n",
      " [0.00000000e+000 0.00000000e+000 8.85365637e-321]\n",
      " [5.98147296e-154 6.01346930e-154 4.19314256e+228]]\n"
     ]
    }
   ],
   "source": [
    "arEmpty2d = np.empty((3,3))\n",
    "print(arEmpty2d)"
   ]
  },
  {
   "cell_type": "code",
   "execution_count": 21,
   "id": "baeccbd7-217c-4bea-93a3-0a45ba5c0b70",
   "metadata": {},
   "outputs": [
    {
     "name": "stdout",
     "output_type": "stream",
     "text": [
      "[0 1 2 3]\n"
     ]
    }
   ],
   "source": [
    "arRange = np.arange(4)\n",
    "print(arRange)"
   ]
  },
  {
   "cell_type": "code",
   "execution_count": 22,
   "id": "6a35797f-c247-4321-a3db-8d934dd5ac7e",
   "metadata": {},
   "outputs": [
    {
     "name": "stdout",
     "output_type": "stream",
     "text": [
      "[1 3 5 7 9]\n"
     ]
    }
   ],
   "source": [
    "arRange = np.arange(1,11,2)\n",
    "print(arRange)"
   ]
  },
  {
   "cell_type": "code",
   "execution_count": 23,
   "id": "5380b388-ce6f-4d5b-a491-32c4cec0e631",
   "metadata": {},
   "outputs": [
    {
     "name": "stdout",
     "output_type": "stream",
     "text": [
      "[[1. 0. 0.]\n",
      " [0. 1. 0.]\n",
      " [0. 0. 1.]]\n"
     ]
    }
   ],
   "source": [
    "arDiagonal = np.eye(3)\n",
    "print(arDiagonal)"
   ]
  },
  {
   "cell_type": "code",
   "execution_count": 24,
   "id": "3480343b-4d84-4bb1-9288-ac22e4833d97",
   "metadata": {},
   "outputs": [
    {
     "name": "stdout",
     "output_type": "stream",
     "text": [
      "[[1. 0. 0. 0. 0.]\n",
      " [0. 1. 0. 0. 0.]\n",
      " [0. 0. 1. 0. 0.]]\n"
     ]
    }
   ],
   "source": [
    "arDiagonal = np.eye(3,5)\n",
    "print(arDiagonal)"
   ]
  },
  {
   "cell_type": "code",
   "execution_count": 25,
   "id": "9eaf7fc3-ee8c-4112-9aca-ff590a2a1fb2",
   "metadata": {},
   "outputs": [
    {
     "name": "stdout",
     "output_type": "stream",
     "text": [
      "[ 0.  5. 10. 15. 20.]\n"
     ]
    }
   ],
   "source": [
    "arLin = np.linspace(0,20,num=5)\n",
    "print(arLin)"
   ]
  },
  {
   "cell_type": "code",
   "execution_count": 26,
   "id": "8f727bbe-999d-4ed8-b4bc-b42b53bac1e1",
   "metadata": {},
   "outputs": [
    {
     "name": "stdout",
     "output_type": "stream",
     "text": [
      "[ 0. 20.]\n"
     ]
    }
   ],
   "source": [
    "arLin = np.linspace(0,20,num=2)\n",
    "print(arLin)"
   ]
  },
  {
   "cell_type": "code",
   "execution_count": 27,
   "id": "636d6fc2-398b-4fb2-a50f-7e103819001b",
   "metadata": {},
   "outputs": [
    {
     "name": "stdout",
     "output_type": "stream",
     "text": [
      "[ 0.   2.5  5.   7.5 10. ]\n"
     ]
    }
   ],
   "source": [
    "arLin = np.linspace(0,10,num=5)\n",
    "print(arLin)"
   ]
  },
  {
   "cell_type": "markdown",
   "id": "83a293c2-6ea0-4fee-83d6-364d85557851",
   "metadata": {},
   "source": [
    "# Random Number Array"
   ]
  },
  {
   "cell_type": "code",
   "execution_count": 28,
   "id": "57c69caf-0ef4-4f00-aa57-3cc0e8142278",
   "metadata": {},
   "outputs": [
    {
     "name": "stdout",
     "output_type": "stream",
     "text": [
      "[0.28612951 0.63929834 0.87970048 0.70254987]\n"
     ]
    }
   ],
   "source": [
    "ranArr = np.random.rand(4)\n",
    "print(ranArr)"
   ]
  },
  {
   "cell_type": "code",
   "execution_count": 29,
   "id": "54b43e71-517d-4447-90af-0999395cb3c1",
   "metadata": {},
   "outputs": [
    {
     "name": "stdout",
     "output_type": "stream",
     "text": [
      "[[0.61647706 0.153595   0.25600379]\n",
      " [0.12445997 0.52261762 0.82796977]\n",
      " [0.58729041 0.59651725 0.4371282 ]\n",
      " [0.50066541 0.57542598 0.32315935]]\n"
     ]
    }
   ],
   "source": [
    "ranArr2d = np.random.rand(4,3)\n",
    "print(ranArr2d)"
   ]
  },
  {
   "cell_type": "code",
   "execution_count": 30,
   "id": "39d5f548-aba0-4623-a683-829745f5c6d6",
   "metadata": {},
   "outputs": [
    {
     "name": "stdout",
     "output_type": "stream",
     "text": [
      "[-0.27052385 -0.46323798  1.14337485 -0.91336412]\n"
     ]
    }
   ],
   "source": [
    "ranArrNegative = np.random.randn(4)\n",
    "print(ranArrNegative)"
   ]
  },
  {
   "cell_type": "code",
   "execution_count": 31,
   "id": "4ff7304b-c4de-4dcd-884c-eade2b04337c",
   "metadata": {},
   "outputs": [
    {
     "name": "stdout",
     "output_type": "stream",
     "text": [
      "[[ 1.04839043  0.12069216]\n",
      " [-1.37378843  0.79132311]\n",
      " [ 0.40240003  0.51488638]]\n"
     ]
    }
   ],
   "source": [
    "ranArrNegative2d = np.random.randn(3,2)\n",
    "print(ranArrNegative2d)"
   ]
  },
  {
   "cell_type": "code",
   "execution_count": 33,
   "id": "2c4d75e9-5ac8-490c-9754-b0238f19ffca",
   "metadata": {},
   "outputs": [
    {
     "name": "stdout",
     "output_type": "stream",
     "text": [
      "[0.53349371 0.23127002 0.35354352 0.26901235]\n"
     ]
    }
   ],
   "source": [
    "ranArr = np.random.ranf(4)\n",
    "print(ranArr)"
   ]
  },
  {
   "cell_type": "code",
   "execution_count": 35,
   "id": "0fab90fc-cca4-4446-98f9-ba768e4ebeba",
   "metadata": {},
   "outputs": [
    {
     "name": "stdout",
     "output_type": "stream",
     "text": [
      "[[0.70041082 0.75224649]\n",
      " [0.2575867  0.5596336 ]\n",
      " [0.07307599 0.37563185]]\n"
     ]
    }
   ],
   "source": [
    "ranArr2d = np.random.ranf((3,2))\n",
    "print(ranArr2d)"
   ]
  },
  {
   "cell_type": "code",
   "execution_count": 37,
   "id": "35135568-8baf-4a81-a19b-fe8c9206267a",
   "metadata": {},
   "outputs": [
    {
     "name": "stdout",
     "output_type": "stream",
     "text": [
      "[11  7 10  7  2]\n"
     ]
    }
   ],
   "source": [
    "ranArr = np.random.randint(2,20,5)\n",
    "print(ranArr)"
   ]
  },
  {
   "cell_type": "code",
   "execution_count": 38,
   "id": "dcff8246-0c2f-4aa5-a580-d14ca02e12d8",
   "metadata": {},
   "outputs": [
    {
     "name": "stdout",
     "output_type": "stream",
     "text": [
      "[[ 6  7]\n",
      " [15 18]\n",
      " [ 3 10]]\n"
     ]
    }
   ],
   "source": [
    "ranArr = np.random.randint(2,20,(3,2))\n",
    "print(ranArr)"
   ]
  },
  {
   "cell_type": "code",
   "execution_count": 39,
   "id": "c939d153-c369-4bd6-9a83-e97e0477b6eb",
   "metadata": {},
   "outputs": [
    {
     "name": "stdout",
     "output_type": "stream",
     "text": [
      "1\n"
     ]
    },
    {
     "name": "stderr",
     "output_type": "stream",
     "text": [
      "C:\\Users\\Akshay Soni\\AppData\\Local\\Temp\\ipykernel_9096\\86191777.py:1: DeprecationWarning: This function is deprecated. Please call randint(1, 3 + 1) instead\n",
      "  ranArr = np.random.random_integers(3)\n"
     ]
    }
   ],
   "source": [
    "ranArr = np.random.random_integers(3)\n",
    "print(ranArr)"
   ]
  },
  {
   "cell_type": "code",
   "execution_count": 40,
   "id": "e932a183-c4f3-4f34-9781-3db15768a0ac",
   "metadata": {},
   "outputs": [
    {
     "name": "stdout",
     "output_type": "stream",
     "text": [
      "[0.09556365 0.10349263 0.44060316]\n"
     ]
    }
   ],
   "source": [
    "ranArr = np.random.random(3,)\n",
    "print(ranArr)"
   ]
  },
  {
   "cell_type": "code",
   "execution_count": 42,
   "id": "6239dce0-31e3-42e2-88da-78e8dc0ea0f4",
   "metadata": {},
   "outputs": [
    {
     "name": "stdout",
     "output_type": "stream",
     "text": [
      "[ 0  1  2  3  4  5  6  7  8  9 10 11]\n",
      "[ 3  9 11  7  4  1  0  6  8  5 10  2]\n"
     ]
    }
   ],
   "source": [
    "arr = np.arange(12)\n",
    "print(arr)\n",
    "np.random.shuffle(arr)  \n",
    "print(arr)"
   ]
  },
  {
   "cell_type": "markdown",
   "id": "a35a6b16-04c6-4906-b374-bfcb83423a14",
   "metadata": {},
   "source": [
    "# Numpy Data Type"
   ]
  },
  {
   "cell_type": "code",
   "execution_count": 9,
   "id": "a117e9b1-0b76-4e21-97bd-423a8bd3492a",
   "metadata": {},
   "outputs": [
    {
     "name": "stdout",
     "output_type": "stream",
     "text": [
      "data type : int32\n"
     ]
    }
   ],
   "source": [
    "x = np.array([1,2,3,4])\n",
    "print(\"data type :\",x.dtype)"
   ]
  },
  {
   "cell_type": "code",
   "execution_count": 10,
   "id": "ea394269-fece-42f7-a101-29bbb1b4910b",
   "metadata": {},
   "outputs": [
    {
     "name": "stdout",
     "output_type": "stream",
     "text": [
      "data type : float64\n"
     ]
    }
   ],
   "source": [
    "x = np.array([1.2,2.45,3.14,4.2])\n",
    "print(\"data type :\",x.dtype)"
   ]
  },
  {
   "cell_type": "code",
   "execution_count": 11,
   "id": "fa76c109-9aa2-461a-93c0-7c475965b6d4",
   "metadata": {},
   "outputs": [
    {
     "name": "stdout",
     "output_type": "stream",
     "text": [
      "data type : <U7\n"
     ]
    }
   ],
   "source": [
    "x = np.array([\"Hello\",\"C\",'Program'])\n",
    "print(\"data type :\",x.dtype)"
   ]
  },
  {
   "cell_type": "code",
   "execution_count": 12,
   "id": "40ac20a7-7cc3-4229-8672-5c3ef2f4f749",
   "metadata": {},
   "outputs": [
    {
     "name": "stdout",
     "output_type": "stream",
     "text": [
      "data type : <U1\n"
     ]
    }
   ],
   "source": [
    "x = np.array([\"H\",\"C\",'P'])\n",
    "print(\"data type :\",x.dtype)"
   ]
  },
  {
   "cell_type": "code",
   "execution_count": 13,
   "id": "ce00c079-9a92-4b4e-b70d-ea93df762fb0",
   "metadata": {},
   "outputs": [
    {
     "name": "stdout",
     "output_type": "stream",
     "text": [
      "data type : <U11\n"
     ]
    }
   ],
   "source": [
    "x = np.array([\"H\",\"C\",'P',1,2,3])\n",
    "print(\"data type :\",x.dtype)"
   ]
  },
  {
   "cell_type": "code",
   "execution_count": 14,
   "id": "84cc7eff-b897-4650-a01f-0a1322019064",
   "metadata": {},
   "outputs": [
    {
     "name": "stdout",
     "output_type": "stream",
     "text": [
      "data type : <U32\n"
     ]
    }
   ],
   "source": [
    "x = np.array([\"H\",\"C\",'P',1,2.35,3])\n",
    "print(\"data type :\",x.dtype)"
   ]
  },
  {
   "cell_type": "code",
   "execution_count": 15,
   "id": "472df28a-68b3-4924-b5ff-aed0aa97013b",
   "metadata": {},
   "outputs": [
    {
     "name": "stdout",
     "output_type": "stream",
     "text": [
      "data type : int8\n"
     ]
    }
   ],
   "source": [
    "x = np.array([1,2,3,4],dtype=np.int8)\n",
    "print(\"data type :\",x.dtype)"
   ]
  },
  {
   "cell_type": "code",
   "execution_count": 16,
   "id": "ef1a0240-8f71-4086-9b13-cb07ea73a084",
   "metadata": {},
   "outputs": [
    {
     "name": "stdout",
     "output_type": "stream",
     "text": [
      "data type : int64\n"
     ]
    }
   ],
   "source": [
    "x = np.array([1,2,3,4],dtype=np.int64)\n",
    "print(\"data type :\",x.dtype)"
   ]
  },
  {
   "cell_type": "code",
   "execution_count": 17,
   "id": "10314784-74ba-4a20-9aa9-a475b34d2704",
   "metadata": {},
   "outputs": [
    {
     "name": "stdout",
     "output_type": "stream",
     "text": [
      "data type : float32\n"
     ]
    }
   ],
   "source": [
    "x = np.array([1,2,3,4],dtype='f')\n",
    "print(\"data type :\",x.dtype)"
   ]
  },
  {
   "cell_type": "code",
   "execution_count": 18,
   "id": "ca77a6e9-4f33-499c-a68f-500e6efe73c3",
   "metadata": {},
   "outputs": [
    {
     "name": "stdout",
     "output_type": "stream",
     "text": [
      "data type : float64\n"
     ]
    }
   ],
   "source": [
    "x = np.array([1,2,3,4],dtype=np.float64)\n",
    "print(\"data type :\",x.dtype)"
   ]
  },
  {
   "cell_type": "code",
   "execution_count": 19,
   "id": "86a06827-e0cb-4748-8305-dace72702a32",
   "metadata": {},
   "outputs": [
    {
     "name": "stdout",
     "output_type": "stream",
     "text": [
      "[1 2 3 4] int32\n",
      "[1. 2. 3. 4.] float32\n"
     ]
    }
   ],
   "source": [
    "x = np.array([1,2,3,4])\n",
    "y = np.float32(x)\n",
    "\n",
    "print(x,x.dtype)\n",
    "print(y,y.dtype)"
   ]
  },
  {
   "cell_type": "code",
   "execution_count": 21,
   "id": "009d14aa-40cf-4547-bd32-9cfe84037eed",
   "metadata": {},
   "outputs": [
    {
     "name": "stdout",
     "output_type": "stream",
     "text": [
      "[1 2 3 4] int32\n",
      "[1. 2. 3. 4.] float64\n"
     ]
    }
   ],
   "source": [
    "x = np.array([1,2,3,4])\n",
    "y = x.astype(float)\n",
    "\n",
    "print(x,x.dtype)\n",
    "print(y,y.dtype)"
   ]
  },
  {
   "cell_type": "markdown",
   "id": "613967dd-6e50-4d3f-844d-d55087e8e386",
   "metadata": {},
   "source": [
    "# Arithmetic Operations"
   ]
  },
  {
   "cell_type": "code",
   "execution_count": 22,
   "id": "da5f7e35-a68f-40c2-8a08-9279c0491342",
   "metadata": {},
   "outputs": [
    {
     "name": "stdout",
     "output_type": "stream",
     "text": [
      "[ 3  6 11  9]\n"
     ]
    }
   ],
   "source": [
    "x = np.array([1,4,9,7])\n",
    "y = x + 2\n",
    "\n",
    "print(y)"
   ]
  },
  {
   "cell_type": "code",
   "execution_count": 23,
   "id": "4ceec1dc-4796-4d5a-bbea-a181168ab0f7",
   "metadata": {},
   "outputs": [
    {
     "name": "stdout",
     "output_type": "stream",
     "text": [
      "[ 3  6 11  9]\n",
      "[-1  2  7  5]\n",
      "[ 2  8 18 14]\n",
      "[0.5 2.  4.5 3.5]\n",
      "[1 0 1 1]\n",
      "[ 1 16 81 49]\n"
     ]
    }
   ],
   "source": [
    "x = np.array([1,4,9,7])\n",
    "\n",
    "y = x + 2\n",
    "print(y)\n",
    "\n",
    "y = x - 2\n",
    "print(y)\n",
    "\n",
    "y = x * 2\n",
    "print(y)\n",
    "\n",
    "y = x / 2\n",
    "print(y)\n",
    "\n",
    "y = x % 2\n",
    "print(y)\n",
    "\n",
    "y = x ** 2\n",
    "print(y)"
   ]
  },
  {
   "cell_type": "code",
   "execution_count": 25,
   "id": "c111e666-8b4b-410c-95b3-14a5b4151844",
   "metadata": {},
   "outputs": [
    {
     "name": "stdout",
     "output_type": "stream",
     "text": [
      "[ 4 15 13 13]\n",
      "[-2 -7  5  1]\n",
      "[ 3 44 36 42]\n",
      "[0.33333333 0.36363636 2.25       1.16666667]\n"
     ]
    }
   ],
   "source": [
    "x = np.array([1,4,9,7])\n",
    "y = np.array([3,11,4,6])\n",
    "\n",
    "z = x + y\n",
    "print(z)\n",
    "\n",
    "z = x - y\n",
    "print(z)\n",
    "\n",
    "z = x * y\n",
    "print(z)\n",
    "\n",
    "z = x / y\n",
    "print(z)"
   ]
  },
  {
   "cell_type": "code",
   "execution_count": 26,
   "id": "73c93bf9-673c-4dc1-96a5-f25740765878",
   "metadata": {},
   "outputs": [
    {
     "ename": "ValueError",
     "evalue": "operands could not be broadcast together with shapes (4,) (5,) ",
     "output_type": "error",
     "traceback": [
      "\u001b[1;31m---------------------------------------------------------------------------\u001b[0m",
      "\u001b[1;31mValueError\u001b[0m                                Traceback (most recent call last)",
      "Input \u001b[1;32mIn [26]\u001b[0m, in \u001b[0;36m<cell line: 4>\u001b[1;34m()\u001b[0m\n\u001b[0;32m      1\u001b[0m x \u001b[38;5;241m=\u001b[39m np\u001b[38;5;241m.\u001b[39marray([\u001b[38;5;241m1\u001b[39m,\u001b[38;5;241m4\u001b[39m,\u001b[38;5;241m9\u001b[39m,\u001b[38;5;241m7\u001b[39m])\n\u001b[0;32m      2\u001b[0m y \u001b[38;5;241m=\u001b[39m np\u001b[38;5;241m.\u001b[39marray([\u001b[38;5;241m3\u001b[39m,\u001b[38;5;241m11\u001b[39m,\u001b[38;5;241m4\u001b[39m,\u001b[38;5;241m6\u001b[39m,\u001b[38;5;241m22\u001b[39m])\n\u001b[1;32m----> 4\u001b[0m z \u001b[38;5;241m=\u001b[39m \u001b[43mx\u001b[49m\u001b[43m \u001b[49m\u001b[38;5;241;43m+\u001b[39;49m\u001b[43m \u001b[49m\u001b[43my\u001b[49m\n\u001b[0;32m      5\u001b[0m \u001b[38;5;28mprint\u001b[39m(z)\n",
      "\u001b[1;31mValueError\u001b[0m: operands could not be broadcast together with shapes (4,) (5,) "
     ]
    }
   ],
   "source": [
    "x = np.array([1,4,9,7])\n",
    "y = np.array([3,11,4,6,22])\n",
    "\n",
    "z = x + y\n",
    "print(z)"
   ]
  },
  {
   "cell_type": "code",
   "execution_count": 28,
   "id": "492c0a8d-26c0-430b-8496-95c87ee5af10",
   "metadata": {},
   "outputs": [
    {
     "name": "stdout",
     "output_type": "stream",
     "text": [
      "[ 3  6 11  9]\n",
      "[-1  2  7  5]\n",
      "[ 2  8 18 14]\n",
      "[0.5 2.  4.5 3.5]\n",
      "[1 0 1 1]\n",
      "[ 1 16 81 49]\n"
     ]
    }
   ],
   "source": [
    "x = np.array([1,4,9,7])\n",
    "\n",
    "y = np.add(x,2)\n",
    "print(y)\n",
    "\n",
    "y = np.subtract(x,2)\n",
    "print(y)\n",
    "\n",
    "y = np.multiply(x,2)\n",
    "print(y)\n",
    "\n",
    "y = np.divide(x,2)\n",
    "print(y)\n",
    "\n",
    "y = np.mod(x,2)\n",
    "print(y)\n",
    "\n",
    "y = np.power(x,2)\n",
    "print(y)"
   ]
  },
  {
   "cell_type": "code",
   "execution_count": 34,
   "id": "9b2784ac-5422-462d-82f0-20c575d03e52",
   "metadata": {},
   "outputs": [
    {
     "name": "stdout",
     "output_type": "stream",
     "text": [
      "[ 4 15 13 13]\n"
     ]
    }
   ],
   "source": [
    "x = np.array([1,4,9,7])\n",
    "y = np.array([3,11,4,6])\n",
    "t = np.array([2,3,4,5])\n",
    "\n",
    "z = np.add(x,y,t)\n",
    "print(z)"
   ]
  },
  {
   "cell_type": "code",
   "execution_count": 35,
   "id": "b595277d-181b-490b-a42d-7df6886695de",
   "metadata": {},
   "outputs": [
    {
     "name": "stdout",
     "output_type": "stream",
     "text": [
      "[[1 2 3]\n",
      " [1 2 3]]\n",
      "\n",
      "[[11 12 13]\n",
      " [ 4  5  6]]\n",
      "\n",
      "[[12 14 16]\n",
      " [ 5  7  9]]\n"
     ]
    }
   ],
   "source": [
    "x = np.array([[1,2,3],[1,2,3]])\n",
    "y = np.array([[11,12,13],[4,5,6]])\n",
    "\n",
    "print(x)\n",
    "print()\n",
    "print(y)\n",
    "print()\n",
    "\n",
    "z = x + y\n",
    "print(z)"
   ]
  },
  {
   "cell_type": "code",
   "execution_count": 36,
   "id": "0acefd0d-5662-4b23-9b36-676f94038278",
   "metadata": {},
   "outputs": [
    {
     "name": "stdout",
     "output_type": "stream",
     "text": [
      "[[1 2 3]\n",
      " [1 2 3]]\n",
      "\n",
      "[[11 12 13]\n",
      " [ 4  5  6]]\n",
      "\n",
      "[[-10 -10 -10]\n",
      " [ -3  -3  -3]]\n"
     ]
    }
   ],
   "source": [
    "x = np.array([[1,2,3],[1,2,3]])\n",
    "y = np.array([[11,12,13],[4,5,6]])\n",
    "\n",
    "print(x)\n",
    "print()\n",
    "print(y)\n",
    "print()\n",
    "\n",
    "z = x - y\n",
    "print(z)"
   ]
  },
  {
   "cell_type": "code",
   "execution_count": 37,
   "id": "790ddf32-0b23-40f2-a101-d76762d3a1e9",
   "metadata": {},
   "outputs": [
    {
     "name": "stdout",
     "output_type": "stream",
     "text": [
      "[[1 2 3]\n",
      " [1 2 3]]\n",
      "\n",
      "[[11 12 13]\n",
      " [ 4  5  6]]\n",
      "\n",
      "[[11 24 39]\n",
      " [ 4 10 18]]\n"
     ]
    }
   ],
   "source": [
    "x = np.array([[1,2,3],[1,2,3]])\n",
    "y = np.array([[11,12,13],[4,5,6]])\n",
    "\n",
    "print(x)\n",
    "print()\n",
    "print(y)\n",
    "print()\n",
    "\n",
    "z = x * y\n",
    "print(z)"
   ]
  },
  {
   "cell_type": "code",
   "execution_count": 2,
   "id": "6e6abd34-0db1-415f-8a85-d8215994ded2",
   "metadata": {},
   "outputs": [
    {
     "name": "stdout",
     "output_type": "stream",
     "text": [
      "Minimum : -4 7\n",
      "Maximum : 98 2\n"
     ]
    }
   ],
   "source": [
    "x = np.array([78,54,98,0,12,98,7,-4,44])\n",
    "\n",
    "print(\"Minimum :\",np.min(x),np.argmin(x))\n",
    "print(\"Maximum :\",np.max(x),np.argmax(x))"
   ]
  },
  {
   "cell_type": "code",
   "execution_count": 9,
   "id": "b4900ffe-00f0-48f3-94cc-41dea4db1a18",
   "metadata": {},
   "outputs": [
    {
     "name": "stdout",
     "output_type": "stream",
     "text": [
      "square root : [1.         3.         1.73205081 4.        ]\n"
     ]
    }
   ],
   "source": [
    "x = np.array([1,9,3,16])\n",
    "\n",
    "print(\"square root :\",np.sqrt(x))"
   ]
  },
  {
   "cell_type": "code",
   "execution_count": 4,
   "id": "95772946-257d-4f3e-87d3-d4fd3d812570",
   "metadata": {},
   "outputs": [
    {
     "name": "stdout",
     "output_type": "stream",
     "text": [
      "Minimum : [1 2] [0 0]\n",
      "Maximum : [9 6] [1 2]\n"
     ]
    }
   ],
   "source": [
    "x = np.array([[1,9,3],[2,4,6]])\n",
    "\n",
    "print(\"Minimum :\",np.min(x,axis=1),np.argmin(x,axis=1))\n",
    "print(\"Maximum :\",np.max(x,axis=1),np.argmax(x,axis=1))"
   ]
  },
  {
   "cell_type": "code",
   "execution_count": 5,
   "id": "d7d4ca3b-cb34-42fa-b2f2-fa88b773361b",
   "metadata": {},
   "outputs": [
    {
     "name": "stdout",
     "output_type": "stream",
     "text": [
      "Minimum : [1 4 3] [0 1 0]\n",
      "Maximum : [2 9 6] [1 0 1]\n"
     ]
    }
   ],
   "source": [
    "x = np.array([[1,9,3],[2,4,6]])\n",
    "\n",
    "print(\"Minimum :\",np.min(x,axis=0),np.argmin(x,axis=0))\n",
    "print(\"Maximum :\",np.max(x,axis=0),np.argmax(x,axis=0))"
   ]
  },
  {
   "cell_type": "code",
   "execution_count": 8,
   "id": "462e7b18-ceb5-442f-b9f3-9e3d52b1f9dd",
   "metadata": {},
   "outputs": [
    {
     "name": "stdout",
     "output_type": "stream",
     "text": [
      "square root : [[1.         3.         1.73205081]\n",
      " [1.41421356 2.         2.44948974]]\n"
     ]
    }
   ],
   "source": [
    "x = np.array([[1,9,3],[2,4,6]])\n",
    "\n",
    "print(\"square root :\",np.sqrt(x))"
   ]
  },
  {
   "cell_type": "code",
   "execution_count": 10,
   "id": "a1c366b5-5045-4771-a7d1-f14fa5da43bc",
   "metadata": {},
   "outputs": [
    {
     "name": "stdout",
     "output_type": "stream",
     "text": [
      "Sin : [ 0.84147098 -0.30481062  0.89399666]\n",
      "Sin : [[-0.98803162 -0.30481062  0.89399666]\n",
      " [-0.80115264 -0.17604595  0.95891572]]\n"
     ]
    }
   ],
   "source": [
    "x = np.array([1,60,90])\n",
    "y = np.array([[30,60,90],[180,270,360]])\n",
    "\n",
    "print(\"Sin :\",np.sin(x))\n",
    "print(\"Sin :\",np.sin(y))"
   ]
  },
  {
   "cell_type": "code",
   "execution_count": 11,
   "id": "55a4cf21-53bc-4b2a-bfca-30de5b6a717f",
   "metadata": {},
   "outputs": [
    {
     "name": "stdout",
     "output_type": "stream",
     "text": [
      "Cos : [ 0.54030231 -0.95241298 -0.44807362]\n",
      "Cos : [[ 0.15425145 -0.95241298 -0.44807362]\n",
      " [-0.59846007  0.98438195 -0.28369109]]\n"
     ]
    }
   ],
   "source": [
    "x = np.array([1,60,90])\n",
    "y = np.array([[30,60,90],[180,270,360]])\n",
    "\n",
    "print(\"Cos :\",np.cos(x))\n",
    "print(\"Cos :\",np.cos(y))"
   ]
  },
  {
   "cell_type": "code",
   "execution_count": 12,
   "id": "8634c2c2-f9b5-4d56-ad50-fc5c8e72ab4d",
   "metadata": {},
   "outputs": [
    {
     "name": "stdout",
     "output_type": "stream",
     "text": [
      "Cummulative Sum : [ 1 10 13]\n"
     ]
    }
   ],
   "source": [
    "x = np.array([1,9,3])\n",
    "\n",
    "print(\"Cummulative Sum :\",np.cumsum(x))"
   ]
  },
  {
   "cell_type": "code",
   "execution_count": 13,
   "id": "60639ded-bd8a-4929-9436-42c2b5342e97",
   "metadata": {},
   "outputs": [
    {
     "name": "stdout",
     "output_type": "stream",
     "text": [
      "Cummulative Sum : [ 1 10 13 14 16 19]\n"
     ]
    }
   ],
   "source": [
    "x = np.array([[1,9,3],[1,2,3]])\n",
    "\n",
    "print(\"Cummulative Sum :\",np.cumsum(x))"
   ]
  },
  {
   "cell_type": "code",
   "execution_count": 14,
   "id": "afcd93cf-1b52-4bcf-a21d-66372bcff686",
   "metadata": {},
   "outputs": [
    {
     "name": "stdout",
     "output_type": "stream",
     "text": [
      "Cummulative Sum : [[ 1  9  3]\n",
      " [ 2 11  6]]\n"
     ]
    }
   ],
   "source": [
    "x = np.array([[1,9,3],[1,2,3]])\n",
    "\n",
    "print(\"Cummulative Sum :\",np.cumsum(x,axis=0))"
   ]
  },
  {
   "cell_type": "code",
   "execution_count": 15,
   "id": "645f0032-d6ed-48b9-a4f8-01b2a08ba0d8",
   "metadata": {},
   "outputs": [
    {
     "name": "stdout",
     "output_type": "stream",
     "text": [
      "Cummulative Sum : [[ 1 10 13]\n",
      " [ 1  3  6]]\n"
     ]
    }
   ],
   "source": [
    "x = np.array([[1,9,3],[1,2,3]])\n",
    "\n",
    "print(\"Cummulative Sum :\",np.cumsum(x,axis=1))"
   ]
  },
  {
   "cell_type": "markdown",
   "id": "a0c2d8f9-6da9-4d7f-bc7c-c447de0919c2",
   "metadata": {},
   "source": [
    "# Shape"
   ]
  },
  {
   "cell_type": "code",
   "execution_count": 17,
   "id": "0dee68a2-7743-451b-bcd0-801faea864ae",
   "metadata": {},
   "outputs": [
    {
     "name": "stdout",
     "output_type": "stream",
     "text": [
      "[1 2 3 4]\n",
      "(4,)\n"
     ]
    }
   ],
   "source": [
    "x = np.array([1,2,3,4])\n",
    "\n",
    "print(x)\n",
    "print(x.shape)"
   ]
  },
  {
   "cell_type": "code",
   "execution_count": 18,
   "id": "7ba26390-1d03-4e39-b75f-925146806fe3",
   "metadata": {},
   "outputs": [
    {
     "name": "stdout",
     "output_type": "stream",
     "text": [
      "[[1 2 3 4]\n",
      " [9 8 7 6]]\n",
      "(2, 4)\n"
     ]
    }
   ],
   "source": [
    "x = np.array([[1,2,3,4],[9,8,7,6]])\n",
    "\n",
    "print(x)\n",
    "print(x.shape)"
   ]
  },
  {
   "cell_type": "code",
   "execution_count": 19,
   "id": "ea8ad975-c6ad-4f62-8292-a5945df41c03",
   "metadata": {},
   "outputs": [
    {
     "name": "stdout",
     "output_type": "stream",
     "text": [
      "[[[[1 2 3 4]]]]\n",
      "(1, 1, 1, 4)\n"
     ]
    }
   ],
   "source": [
    "x = np.array([1,2,3,4],ndmin=4)\n",
    "\n",
    "print(x)\n",
    "print(x.shape)"
   ]
  },
  {
   "cell_type": "code",
   "execution_count": 21,
   "id": "780e5b9c-9712-482a-8b2e-561ed39a43b8",
   "metadata": {},
   "outputs": [
    {
     "name": "stdout",
     "output_type": "stream",
     "text": [
      "[1 2 3 4 5 6]\n",
      "Shape (6,) Dimension 1\n",
      "\n",
      "[[1 2]\n",
      " [3 4]\n",
      " [5 6]]\n",
      "Shape (3, 2) Dimension 2\n"
     ]
    }
   ],
   "source": [
    "x = np.array([1,2,3,4,5,6])\n",
    "print(x)\n",
    "print(\"Shape\",x.shape,\"Dimension\",x.ndim)\n",
    "\n",
    "print()\n",
    "\n",
    "y = x.reshape(3,2)\n",
    "print(y)\n",
    "print(\"Shape\",y.shape,\"Dimension\",y.ndim)"
   ]
  },
  {
   "cell_type": "code",
   "execution_count": 22,
   "id": "cb7c578e-5dd3-4f11-a1cc-a98a8dfabf4a",
   "metadata": {},
   "outputs": [
    {
     "name": "stdout",
     "output_type": "stream",
     "text": [
      "[1 2 3 4 5 6]\n",
      "Shape (6,) Dimension 1\n",
      "\n"
     ]
    },
    {
     "ename": "ValueError",
     "evalue": "cannot reshape array of size 6 into shape (3,3)",
     "output_type": "error",
     "traceback": [
      "\u001b[1;31m---------------------------------------------------------------------------\u001b[0m",
      "\u001b[1;31mValueError\u001b[0m                                Traceback (most recent call last)",
      "Input \u001b[1;32mIn [22]\u001b[0m, in \u001b[0;36m<cell line: 7>\u001b[1;34m()\u001b[0m\n\u001b[0;32m      3\u001b[0m \u001b[38;5;28mprint\u001b[39m(\u001b[38;5;124m\"\u001b[39m\u001b[38;5;124mShape\u001b[39m\u001b[38;5;124m\"\u001b[39m,x\u001b[38;5;241m.\u001b[39mshape,\u001b[38;5;124m\"\u001b[39m\u001b[38;5;124mDimension\u001b[39m\u001b[38;5;124m\"\u001b[39m,x\u001b[38;5;241m.\u001b[39mndim)\n\u001b[0;32m      5\u001b[0m \u001b[38;5;28mprint\u001b[39m()\n\u001b[1;32m----> 7\u001b[0m y \u001b[38;5;241m=\u001b[39m \u001b[43mx\u001b[49m\u001b[38;5;241;43m.\u001b[39;49m\u001b[43mreshape\u001b[49m\u001b[43m(\u001b[49m\u001b[38;5;241;43m3\u001b[39;49m\u001b[43m,\u001b[49m\u001b[38;5;241;43m3\u001b[39;49m\u001b[43m)\u001b[49m\n\u001b[0;32m      8\u001b[0m \u001b[38;5;28mprint\u001b[39m(y)\n\u001b[0;32m      9\u001b[0m \u001b[38;5;28mprint\u001b[39m(\u001b[38;5;124m\"\u001b[39m\u001b[38;5;124mShape\u001b[39m\u001b[38;5;124m\"\u001b[39m,y\u001b[38;5;241m.\u001b[39mshape,\u001b[38;5;124m\"\u001b[39m\u001b[38;5;124mDimension\u001b[39m\u001b[38;5;124m\"\u001b[39m,y\u001b[38;5;241m.\u001b[39mndim)\n",
      "\u001b[1;31mValueError\u001b[0m: cannot reshape array of size 6 into shape (3,3)"
     ]
    }
   ],
   "source": [
    "x = np.array([1,2,3,4,5,6])\n",
    "print(x)\n",
    "print(\"Shape\",x.shape,\"Dimension\",x.ndim)\n",
    "\n",
    "print()\n",
    "\n",
    "y = x.reshape(3,3)\n",
    "print(y)\n",
    "print(\"Shape\",y.shape,\"Dimension\",y.ndim)"
   ]
  },
  {
   "cell_type": "code",
   "execution_count": 23,
   "id": "e4f19269-31a2-414b-a103-d8db1d033608",
   "metadata": {},
   "outputs": [
    {
     "name": "stdout",
     "output_type": "stream",
     "text": [
      "[1 2 3 4 5 6]\n",
      "Shape (6,) Dimension 1\n",
      "\n"
     ]
    },
    {
     "ename": "ValueError",
     "evalue": "cannot reshape array of size 6 into shape (2,2)",
     "output_type": "error",
     "traceback": [
      "\u001b[1;31m---------------------------------------------------------------------------\u001b[0m",
      "\u001b[1;31mValueError\u001b[0m                                Traceback (most recent call last)",
      "Input \u001b[1;32mIn [23]\u001b[0m, in \u001b[0;36m<cell line: 7>\u001b[1;34m()\u001b[0m\n\u001b[0;32m      3\u001b[0m \u001b[38;5;28mprint\u001b[39m(\u001b[38;5;124m\"\u001b[39m\u001b[38;5;124mShape\u001b[39m\u001b[38;5;124m\"\u001b[39m,x\u001b[38;5;241m.\u001b[39mshape,\u001b[38;5;124m\"\u001b[39m\u001b[38;5;124mDimension\u001b[39m\u001b[38;5;124m\"\u001b[39m,x\u001b[38;5;241m.\u001b[39mndim)\n\u001b[0;32m      5\u001b[0m \u001b[38;5;28mprint\u001b[39m()\n\u001b[1;32m----> 7\u001b[0m y \u001b[38;5;241m=\u001b[39m \u001b[43mx\u001b[49m\u001b[38;5;241;43m.\u001b[39;49m\u001b[43mreshape\u001b[49m\u001b[43m(\u001b[49m\u001b[38;5;241;43m2\u001b[39;49m\u001b[43m,\u001b[49m\u001b[38;5;241;43m2\u001b[39;49m\u001b[43m)\u001b[49m\n\u001b[0;32m      8\u001b[0m \u001b[38;5;28mprint\u001b[39m(y)\n\u001b[0;32m      9\u001b[0m \u001b[38;5;28mprint\u001b[39m(\u001b[38;5;124m\"\u001b[39m\u001b[38;5;124mShape\u001b[39m\u001b[38;5;124m\"\u001b[39m,y\u001b[38;5;241m.\u001b[39mshape,\u001b[38;5;124m\"\u001b[39m\u001b[38;5;124mDimension\u001b[39m\u001b[38;5;124m\"\u001b[39m,y\u001b[38;5;241m.\u001b[39mndim)\n",
      "\u001b[1;31mValueError\u001b[0m: cannot reshape array of size 6 into shape (2,2)"
     ]
    }
   ],
   "source": [
    "x = np.array([1,2,3,4,5,6])\n",
    "print(x)\n",
    "print(\"Shape\",x.shape,\"Dimension\",x.ndim)\n",
    "\n",
    "print()\n",
    "\n",
    "y = x.reshape(2,2)\n",
    "print(y)\n",
    "print(\"Shape\",y.shape,\"Dimension\",y.ndim)"
   ]
  },
  {
   "cell_type": "code",
   "execution_count": 24,
   "id": "51fea55c-9df0-4c25-8af2-2c0b9676919d",
   "metadata": {},
   "outputs": [
    {
     "name": "stdout",
     "output_type": "stream",
     "text": [
      "[1 2 3 4 5 6]\n",
      "Shape (6,) Dimension 1\n",
      "\n",
      "[[1 2 3]\n",
      " [4 5 6]]\n",
      "Shape (2, 3) Dimension 2\n"
     ]
    }
   ],
   "source": [
    "x = np.array([1,2,3,4,5,6])\n",
    "print(x)\n",
    "print(\"Shape\",x.shape,\"Dimension\",x.ndim)\n",
    "\n",
    "print()\n",
    "\n",
    "y = x.reshape(2,3)\n",
    "print(y)\n",
    "print(\"Shape\",y.shape,\"Dimension\",y.ndim)"
   ]
  },
  {
   "cell_type": "code",
   "execution_count": 25,
   "id": "4802ff8c-2d63-44f0-acfb-b7c2ba62c237",
   "metadata": {},
   "outputs": [
    {
     "name": "stdout",
     "output_type": "stream",
     "text": [
      "[ 0  1  2  3  4  5  6  7  8  9 10 11]\n",
      "Shape (12,) Dimension 1\n",
      "\n",
      "[[[ 0  1]\n",
      "  [ 2  3]\n",
      "  [ 4  5]]\n",
      "\n",
      " [[ 6  7]\n",
      "  [ 8  9]\n",
      "  [10 11]]]\n",
      "Shape (2, 3, 2) Dimension 3\n"
     ]
    }
   ],
   "source": [
    "x = np.arange(12)\n",
    "print(x)\n",
    "print(\"Shape\",x.shape,\"Dimension\",x.ndim)\n",
    "\n",
    "print()\n",
    "\n",
    "y = x.reshape(2,3,2)\n",
    "print(y)\n",
    "print(\"Shape\",y.shape,\"Dimension\",y.ndim)"
   ]
  },
  {
   "cell_type": "code",
   "execution_count": 26,
   "id": "e0166d55-c3f4-4b03-857c-d2a02dd217ec",
   "metadata": {},
   "outputs": [
    {
     "name": "stdout",
     "output_type": "stream",
     "text": [
      "[[[ 0  1]\n",
      "  [ 2  3]\n",
      "  [ 4  5]]\n",
      "\n",
      " [[ 6  7]\n",
      "  [ 8  9]\n",
      "  [10 11]]]\n",
      "Shape (2, 3, 2) Dimension 3\n",
      "\n",
      "[ 0  1  2  3  4  5  6  7  8  9 10 11]\n",
      "Shape (12,) Dimension 1\n"
     ]
    }
   ],
   "source": [
    "x = np.array([[[0,1],[2,3],[4,5]],[[6,7],[8,9],[10,11]]])\n",
    "print(x)\n",
    "print(\"Shape\",x.shape,\"Dimension\",x.ndim)\n",
    "\n",
    "print()\n",
    "\n",
    "y = x.reshape(-1)\n",
    "print(y)\n",
    "print(\"Shape\",y.shape,\"Dimension\",y.ndim)"
   ]
  },
  {
   "cell_type": "markdown",
   "id": "5a680618-779f-40ed-aa02-9f425b8d71f7",
   "metadata": {},
   "source": [
    "# Broadcasting"
   ]
  },
  {
   "cell_type": "code",
   "execution_count": 3,
   "id": "30e11fe1-af4c-4e7b-8376-1d82ca6487c9",
   "metadata": {},
   "outputs": [
    {
     "ename": "ValueError",
     "evalue": "operands could not be broadcast together with shapes (4,) (3,) ",
     "output_type": "error",
     "traceback": [
      "\u001b[1;31m---------------------------------------------------------------------------\u001b[0m",
      "\u001b[1;31mValueError\u001b[0m                                Traceback (most recent call last)",
      "Input \u001b[1;32mIn [3]\u001b[0m, in \u001b[0;36m<cell line: 4>\u001b[1;34m()\u001b[0m\n\u001b[0;32m      1\u001b[0m x \u001b[38;5;241m=\u001b[39m np\u001b[38;5;241m.\u001b[39marray([\u001b[38;5;241m1\u001b[39m,\u001b[38;5;241m2\u001b[39m,\u001b[38;5;241m3\u001b[39m,\u001b[38;5;241m4\u001b[39m])\n\u001b[0;32m      2\u001b[0m y \u001b[38;5;241m=\u001b[39m np\u001b[38;5;241m.\u001b[39marray([\u001b[38;5;241m1\u001b[39m,\u001b[38;5;241m2\u001b[39m,\u001b[38;5;241m3\u001b[39m])\n\u001b[1;32m----> 4\u001b[0m \u001b[38;5;28mprint\u001b[39m(\u001b[43mx\u001b[49m\u001b[38;5;241;43m+\u001b[39;49m\u001b[43my\u001b[49m)\n",
      "\u001b[1;31mValueError\u001b[0m: operands could not be broadcast together with shapes (4,) (3,) "
     ]
    }
   ],
   "source": [
    "x = np.array([1,2,3,4])\n",
    "y = np.array([1,2,3])\n",
    "\n",
    "print(x+y)"
   ]
  },
  {
   "cell_type": "code",
   "execution_count": 4,
   "id": "b42eebd6-df4b-4ae9-90d6-49e4d752a34c",
   "metadata": {},
   "outputs": [
    {
     "name": "stdout",
     "output_type": "stream",
     "text": [
      "[ 5  7  9 11]\n"
     ]
    }
   ],
   "source": [
    "x = np.array([1,2,3,4])\n",
    "y = np.array([4,5,6,7])\n",
    "\n",
    "print(x+y)"
   ]
  },
  {
   "cell_type": "code",
   "execution_count": 6,
   "id": "2377520c-cb02-4e17-999f-5ec4c27e8b1b",
   "metadata": {},
   "outputs": [
    {
     "name": "stdout",
     "output_type": "stream",
     "text": [
      "[1 2 3 4] (4,)\n",
      "\n",
      "[[1]\n",
      " [2]\n",
      " [3]\n",
      " [4]] (4, 1)\n",
      "\n",
      "[[2 3 4 5]\n",
      " [3 4 5 6]\n",
      " [4 5 6 7]\n",
      " [5 6 7 8]] (4, 4)\n"
     ]
    }
   ],
   "source": [
    "x = np.array([1,2,3,4])\n",
    "print(x,x.shape)\n",
    "print()\n",
    "\n",
    "y = np.array([[1],[2],[3],[4]])\n",
    "print(y,y.shape)\n",
    "print()\n",
    "\n",
    "z = x+y\n",
    "print(z,z.shape)"
   ]
  },
  {
   "cell_type": "code",
   "execution_count": 7,
   "id": "53c4c29b-c7af-42e2-9e34-fc2ad0a45834",
   "metadata": {},
   "outputs": [
    {
     "name": "stdout",
     "output_type": "stream",
     "text": [
      "[[4]\n",
      " [6]] (2, 1)\n",
      "\n",
      "[[1 3]\n",
      " [2 7]] (2, 2)\n",
      "\n",
      "[[ 5  7]\n",
      " [ 8 13]] (2, 2)\n"
     ]
    }
   ],
   "source": [
    "x = np.array([[4],[6]])\n",
    "print(x,x.shape)\n",
    "print()\n",
    "\n",
    "y = np.array([[1,3],[2,7]])\n",
    "print(y,y.shape)\n",
    "print()\n",
    "\n",
    "z = x+y\n",
    "print(z,z.shape)"
   ]
  },
  {
   "cell_type": "code",
   "execution_count": 8,
   "id": "d67cc9fc-378a-46c5-a691-01b1c15be828",
   "metadata": {},
   "outputs": [
    {
     "name": "stdout",
     "output_type": "stream",
     "text": [
      "[4 6] (2,)\n",
      "\n",
      "[[1 3]\n",
      " [2 7]] (2, 2)\n",
      "\n",
      "[[ 5  9]\n",
      " [ 6 13]] (2, 2)\n"
     ]
    }
   ],
   "source": [
    "x = np.array([4,6])\n",
    "print(x,x.shape)\n",
    "print()\n",
    "\n",
    "y = np.array([[1,3],[2,7]])\n",
    "print(y,y.shape)\n",
    "print()\n",
    "\n",
    "z = x+y\n",
    "print(z,z.shape)"
   ]
  },
  {
   "cell_type": "code",
   "execution_count": null,
   "id": "78c3bf6b-b854-47f8-90f5-02338505a26a",
   "metadata": {},
   "outputs": [],
   "source": []
  }
 ],
 "metadata": {
  "kernelspec": {
   "display_name": "Python 3 (ipykernel)",
   "language": "python",
   "name": "python3"
  },
  "language_info": {
   "codemirror_mode": {
    "name": "ipython",
    "version": 3
   },
   "file_extension": ".py",
   "mimetype": "text/x-python",
   "name": "python",
   "nbconvert_exporter": "python",
   "pygments_lexer": "ipython3",
   "version": "3.8.5"
  }
 },
 "nbformat": 4,
 "nbformat_minor": 5
}
