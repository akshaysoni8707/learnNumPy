{
 "cells": [
  {
   "cell_type": "code",
   "execution_count": 1,
   "id": "3fec9335-84d1-41cd-bcf4-062a20fb6882",
   "metadata": {},
   "outputs": [
    {
     "name": "stdout",
     "output_type": "stream",
     "text": [
      "1.87 µs ± 44.4 ns per loop (mean ± std. dev. of 7 runs, 1,000,000 loops each)\n"
     ]
    }
   ],
   "source": [
    "%timeit [i**4 for i in range(1,9)]"
   ]
  },
  {
   "cell_type": "code",
   "execution_count": 2,
   "id": "5f4e966c-487a-4f86-a362-620edfded89a",
   "metadata": {},
   "outputs": [
    {
     "name": "stdout",
     "output_type": "stream",
     "text": [
      "1.65 µs ± 28.4 ns per loop (mean ± std. dev. of 7 runs, 1,000,000 loops each)\n"
     ]
    }
   ],
   "source": [
    "import numpy as np\n",
    "%timeit np.arange(1,9)**4"
   ]
  },
  {
   "cell_type": "markdown",
   "id": "e7103994-0646-45c1-aa19-fcdc626c3ad0",
   "metadata": {},
   "source": [
    "# Array"
   ]
  },
  {
   "cell_type": "code",
   "execution_count": 1,
   "id": "9b55efa2-daa1-4b85-ad7c-ca2cd71fc816",
   "metadata": {},
   "outputs": [
    {
     "name": "stdout",
     "output_type": "stream",
     "text": [
      "[1 2 3 4]\n"
     ]
    }
   ],
   "source": [
    "import numpy as np\n",
    "\n",
    "x = [1,2,3,4]\n",
    "y = np.array(x)\n",
    "\n",
    "print(y)"
   ]
  },
  {
   "cell_type": "code",
   "execution_count": 3,
   "id": "d8fbe299-aed1-4817-b2dc-190f6361b31f",
   "metadata": {},
   "outputs": [
    {
     "name": "stdout",
     "output_type": "stream",
     "text": [
      "[1 2 3 4]\n",
      "<class 'numpy.ndarray'>\n"
     ]
    },
    {
     "data": {
      "text/plain": [
       "array([1, 2, 3, 4])"
      ]
     },
     "execution_count": 3,
     "metadata": {},
     "output_type": "execute_result"
    }
   ],
   "source": [
    "import numpy as np\n",
    "\n",
    "y = np.array([1,2,3,4])\n",
    "\n",
    "print(y)\n",
    "print(type(y))\n",
    "y"
   ]
  },
  {
   "cell_type": "code",
   "execution_count": 4,
   "id": "cafd6a82-37ad-4a7b-afc9-cdc7a8083f81",
   "metadata": {},
   "outputs": [
    {
     "name": "stdin",
     "output_type": "stream",
     "text": [
      "Enter data  11\n",
      "Enter data  12\n",
      "Enter data  13\n",
      "Enter data  14\n"
     ]
    },
    {
     "name": "stdout",
     "output_type": "stream",
     "text": [
      "[11 12 13 14]\n",
      "<class 'numpy.ndarray'>\n",
      "1\n"
     ]
    }
   ],
   "source": [
    "l = []\n",
    "\n",
    "for i in range(1,5):\n",
    "    data = int(input(\"Enter data \"))\n",
    "    l.append(data)\n",
    "    \n",
    "y = np.array(l)\n",
    "print(y)\n",
    "print(type(y))\n",
    "print(y.ndim)"
   ]
  },
  {
   "cell_type": "code",
   "execution_count": 5,
   "id": "9c8a3142-975a-478c-854a-6b6ef37638e5",
   "metadata": {},
   "outputs": [
    {
     "name": "stdout",
     "output_type": "stream",
     "text": [
      "[[ 1  2  3  4]\n",
      " [17 15 14 12]]\n",
      "2\n"
     ]
    }
   ],
   "source": [
    "ar2d = np.array([[1,2,3,4],[17,15,14,12]])\n",
    "print(ar2d)\n",
    "print(ar2d.ndim)"
   ]
  },
  {
   "cell_type": "code",
   "execution_count": 6,
   "id": "bf02ba63-df16-4e80-9769-8620425ce4e5",
   "metadata": {},
   "outputs": [
    {
     "name": "stdout",
     "output_type": "stream",
     "text": [
      "[list([[1, 2, 3, 4], [17, 15, 14, 12]]) list([[5, 6, 7, 8]])]\n",
      "1\n"
     ]
    },
    {
     "name": "stderr",
     "output_type": "stream",
     "text": [
      "C:\\Users\\Akshay Soni\\AppData\\Local\\Temp\\ipykernel_9096\\1151516850.py:1: VisibleDeprecationWarning: Creating an ndarray from ragged nested sequences (which is a list-or-tuple of lists-or-tuples-or ndarrays with different lengths or shapes) is deprecated. If you meant to do this, you must specify 'dtype=object' when creating the ndarray.\n",
      "  ar3d = np.array([[[1,2,3,4],[17,15,14,12]],[[5,6,7,8]]])\n"
     ]
    }
   ],
   "source": [
    "ar3d = np.array([[[1,2,3,4],[17,15,14,12]],[[5,6,7,8]]])\n",
    "print(ar3d)\n",
    "print(ar3d.ndim)"
   ]
  },
  {
   "cell_type": "code",
   "execution_count": 8,
   "id": "afb107c2-ed68-4373-a16d-9fd28990cce9",
   "metadata": {},
   "outputs": [
    {
     "name": "stdout",
     "output_type": "stream",
     "text": [
      "[[[ 1  2  3  4]\n",
      "  [17 15 14 12]]\n",
      "\n",
      " [[ 5  6  7  8]\n",
      "  [11 22 33 44]]]\n",
      "3\n"
     ]
    }
   ],
   "source": [
    "ar3d = np.array([[[1,2,3,4],[17,15,14,12]],[[5,6,7,8],[11,22,33,44]]])\n",
    "print(ar3d)\n",
    "print(ar3d.ndim)"
   ]
  },
  {
   "cell_type": "code",
   "execution_count": 11,
   "id": "18574b79-d3b5-4d8b-8cac-136dffe273ff",
   "metadata": {},
   "outputs": [
    {
     "name": "stdout",
     "output_type": "stream",
     "text": [
      "[[[[[[[[[[1 2 3 4]]]]]]]]]]\n",
      "10\n"
     ]
    }
   ],
   "source": [
    "arNd = np.array([1,2,3,4],ndmin = 10)\n",
    "print(arNd)\n",
    "print(arNd.ndim)"
   ]
  },
  {
   "cell_type": "markdown",
   "id": "e9e4b6af-3087-4e77-9573-e79f8803fbd2",
   "metadata": {},
   "source": [
    "# Numpy Array Functions"
   ]
  },
  {
   "cell_type": "code",
   "execution_count": 13,
   "id": "a7c05a5e-35f7-4911-b4b5-ef289d001dd3",
   "metadata": {},
   "outputs": [
    {
     "name": "stdout",
     "output_type": "stream",
     "text": [
      "[0. 0. 0. 0.]\n"
     ]
    }
   ],
   "source": [
    "arZeros = np.zeros(4)\n",
    "print(arZeros)"
   ]
  },
  {
   "cell_type": "code",
   "execution_count": 15,
   "id": "41048011-7d65-4696-84dc-cac22424db7b",
   "metadata": {},
   "outputs": [
    {
     "name": "stdout",
     "output_type": "stream",
     "text": [
      "[[0. 0. 0. 0.]\n",
      " [0. 0. 0. 0.]\n",
      " [0. 0. 0. 0.]]\n"
     ]
    }
   ],
   "source": [
    "arZeros2d = np.zeros((3,4))\n",
    "print(arZeros2d)"
   ]
  },
  {
   "cell_type": "code",
   "execution_count": 16,
   "id": "56baa277-5b9e-4ef1-809d-79e580792ec5",
   "metadata": {},
   "outputs": [
    {
     "name": "stdout",
     "output_type": "stream",
     "text": [
      "[1. 1. 1. 1.]\n"
     ]
    }
   ],
   "source": [
    "arOnes = np.ones(4)\n",
    "print(arOnes)"
   ]
  },
  {
   "cell_type": "code",
   "execution_count": 17,
   "id": "dd3bbd0b-689c-4858-8912-9a30498a748b",
   "metadata": {},
   "outputs": [
    {
     "name": "stdout",
     "output_type": "stream",
     "text": [
      "[[1. 1. 1.]\n",
      " [1. 1. 1.]\n",
      " [1. 1. 1.]\n",
      " [1. 1. 1.]]\n"
     ]
    }
   ],
   "source": [
    "arOnes2d = np.ones((4,3))\n",
    "print(arOnes2d)"
   ]
  },
  {
   "cell_type": "code",
   "execution_count": 19,
   "id": "e534a5d0-5c7e-4510-aad9-64292107a852",
   "metadata": {},
   "outputs": [
    {
     "name": "stdout",
     "output_type": "stream",
     "text": [
      "[1. 1. 1. 1.]\n"
     ]
    }
   ],
   "source": [
    "arEmpty = np.empty(4)\n",
    "print(arEmpty)"
   ]
  },
  {
   "cell_type": "code",
   "execution_count": 20,
   "id": "25984314-83e0-4776-bab0-440a984e18b6",
   "metadata": {},
   "outputs": [
    {
     "name": "stdout",
     "output_type": "stream",
     "text": [
      "[[0.00000000e+000 0.00000000e+000 0.00000000e+000]\n",
      " [0.00000000e+000 0.00000000e+000 8.85365637e-321]\n",
      " [5.98147296e-154 6.01346930e-154 4.19314256e+228]]\n"
     ]
    }
   ],
   "source": [
    "arEmpty2d = np.empty((3,3))\n",
    "print(arEmpty2d)"
   ]
  },
  {
   "cell_type": "code",
   "execution_count": 21,
   "id": "baeccbd7-217c-4bea-93a3-0a45ba5c0b70",
   "metadata": {},
   "outputs": [
    {
     "name": "stdout",
     "output_type": "stream",
     "text": [
      "[0 1 2 3]\n"
     ]
    }
   ],
   "source": [
    "arRange = np.arange(4)\n",
    "print(arRange)"
   ]
  },
  {
   "cell_type": "code",
   "execution_count": 22,
   "id": "6a35797f-c247-4321-a3db-8d934dd5ac7e",
   "metadata": {},
   "outputs": [
    {
     "name": "stdout",
     "output_type": "stream",
     "text": [
      "[1 3 5 7 9]\n"
     ]
    }
   ],
   "source": [
    "arRange = np.arange(1,11,2)\n",
    "print(arRange)"
   ]
  },
  {
   "cell_type": "code",
   "execution_count": 23,
   "id": "5380b388-ce6f-4d5b-a491-32c4cec0e631",
   "metadata": {},
   "outputs": [
    {
     "name": "stdout",
     "output_type": "stream",
     "text": [
      "[[1. 0. 0.]\n",
      " [0. 1. 0.]\n",
      " [0. 0. 1.]]\n"
     ]
    }
   ],
   "source": [
    "arDiagonal = np.eye(3)\n",
    "print(arDiagonal)"
   ]
  },
  {
   "cell_type": "code",
   "execution_count": 24,
   "id": "3480343b-4d84-4bb1-9288-ac22e4833d97",
   "metadata": {},
   "outputs": [
    {
     "name": "stdout",
     "output_type": "stream",
     "text": [
      "[[1. 0. 0. 0. 0.]\n",
      " [0. 1. 0. 0. 0.]\n",
      " [0. 0. 1. 0. 0.]]\n"
     ]
    }
   ],
   "source": [
    "arDiagonal = np.eye(3,5)\n",
    "print(arDiagonal)"
   ]
  },
  {
   "cell_type": "code",
   "execution_count": 25,
   "id": "9eaf7fc3-ee8c-4112-9aca-ff590a2a1fb2",
   "metadata": {},
   "outputs": [
    {
     "name": "stdout",
     "output_type": "stream",
     "text": [
      "[ 0.  5. 10. 15. 20.]\n"
     ]
    }
   ],
   "source": [
    "arLin = np.linspace(0,20,num=5)\n",
    "print(arLin)"
   ]
  },
  {
   "cell_type": "code",
   "execution_count": 26,
   "id": "8f727bbe-999d-4ed8-b4bc-b42b53bac1e1",
   "metadata": {},
   "outputs": [
    {
     "name": "stdout",
     "output_type": "stream",
     "text": [
      "[ 0. 20.]\n"
     ]
    }
   ],
   "source": [
    "arLin = np.linspace(0,20,num=2)\n",
    "print(arLin)"
   ]
  },
  {
   "cell_type": "code",
   "execution_count": 27,
   "id": "636d6fc2-398b-4fb2-a50f-7e103819001b",
   "metadata": {},
   "outputs": [
    {
     "name": "stdout",
     "output_type": "stream",
     "text": [
      "[ 0.   2.5  5.   7.5 10. ]\n"
     ]
    }
   ],
   "source": [
    "arLin = np.linspace(0,10,num=5)\n",
    "print(arLin)"
   ]
  },
  {
   "cell_type": "code",
   "execution_count": null,
   "id": "070bd232-c8ce-47af-ae9c-ba5099446df0",
   "metadata": {},
   "outputs": [],
   "source": []
  }
 ],
 "metadata": {
  "kernelspec": {
   "display_name": "Python 3 (ipykernel)",
   "language": "python",
   "name": "python3"
  },
  "language_info": {
   "codemirror_mode": {
    "name": "ipython",
    "version": 3
   },
   "file_extension": ".py",
   "mimetype": "text/x-python",
   "name": "python",
   "nbconvert_exporter": "python",
   "pygments_lexer": "ipython3",
   "version": "3.8.5"
  }
 },
 "nbformat": 4,
 "nbformat_minor": 5
}
